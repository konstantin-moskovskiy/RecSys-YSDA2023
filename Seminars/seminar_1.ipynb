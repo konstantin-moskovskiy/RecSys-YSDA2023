{
 "cells": [
  {
   "cell_type": "markdown",
   "metadata": {
    "cellId": "n2nirnt4f5jsdvrilebmp",
    "id": "XJw50plyv1bR"
   },
   "source": [
    "# Коллаборативная фильтрация"
   ]
  },
  {
   "cell_type": "markdown",
   "metadata": {
    "cellId": "u8beyxhgmramqk69fct3an",
    "id": "3gt9TUqpv1bS"
   },
   "source": [
    "## Основная идея\n",
    "Как понять, что пользователю $u$ нужно показать айтем $i$?\n",
    "1. Если $u$ понравился айтем, похожий на $i$, то можно предположить, что ему понравится $i$.\n",
    "2. Если ему не понравился айтем, похожий на $i$, ему, вероятно, не понравится и $i$.\n",
    "\n",
    "Таким образом, идея состоит в том, чтобы посмотреть, насколько понравились $u$ айтемы, похожие на $i$."
   ]
  },
  {
   "cell_type": "markdown",
   "metadata": {
    "cellId": "2p3yhx2iuo4pnd523k99",
    "id": "80StAkPXv1bT"
   },
   "source": [
    "## Item-to-item collaborative filtering\n",
    "\n",
    "Реализуем на семинаре следующую вариацию item-to-item метода.\n",
    "1. Пусть $U_i$ &mdash; множество пользователей, оценивших $i$. Определим, как мы будем определять похожести между айтемами. Определим похожести между айтемами, как\n",
    "$$\n",
    "         w(i, j) = \\frac{\\sum_{u\\in U_i \\cap U_j}(r_{u,i}-\\bar{r}_u)(r_{u,j}-\\bar{r}_u)}{\\sqrt{\\sum_{u\\in U_i \\cap U_j} (r_{u,i}-\\bar{r}_u)^2}\\sqrt{\\sum_{u\\in U_i \\cap U_j} (r_{u,j}-\\bar{r}_u)^2}}.\n",
    "$$\n",
    "Обозначим за $S_k^{(i)}$ множество из $k$ наиболее близких к $i$ айтемов.\n",
    "   \n",
    "2. Пользователю $u$, оценившему множество айтемов $I_u$, будем рекомендовать $N$ наиболее подходящих ему айтемов. Для этого,\n",
    "- В качестве кандидатов на попадание в топ возьмем айтемы $$C = \\bigcup_{i \\in I_u} S_k^{(i)} \\setminus I_u.$$\n",
    "- Для кандидатов $c \\in C$ определим похожесть $c$ на историю пользователя $I_u$, как\n",
    "\\begin{equation}\n",
    " w(c,I_u) = \\sum_{i\\in I_u} w_{c,i}.\n",
    "\\end{equation}\n",
    "- Вернем в качестве результата $N$ айтемов $c \\in C$ с максимальной величиной $w(c, I_u)$.\n"
   ]
  },
  {
   "cell_type": "markdown",
   "metadata": {
    "cellId": "tmnyods6w1zik992944cn",
    "id": "Xd0esHr4v1bU"
   },
   "source": [
    "### Import useful requirements"
   ]
  },
  {
   "cell_type": "code",
   "execution_count": null,
   "metadata": {
    "id": "NR8VrEIn8mcL"
   },
   "outputs": [],
   "source": [
    "import os\n",
    "if not (os.path.exists(\"recsys.zip\") or os.path.exists(\"recsys\")):\n",
    "    !wget https://github.com/nzhinusoftcm/review-on-collaborative-filtering/raw/master/recsys.zip    \n",
    "    !unzip recsys.zip"
   ]
  },
  {
   "cell_type": "code",
   "execution_count": null,
   "metadata": {
    "cellId": "bkx1484jcydeaw0zk2m9hd",
    "id": "jHF2QTeIv1bU"
   },
   "outputs": [],
   "source": [
    "from recsys.datasets import ml1m, ml100k\n",
    "from sklearn.preprocessing import LabelEncoder\n",
    "from tqdm.auto import tqdm\n",
    "\n",
    "import pandas as pd\n",
    "import numpy as np\n",
    "import os\n",
    "import joblib\n",
    "import sys\n",
    "\n",
    "import typing as tp"
   ]
  },
  {
   "cell_type": "markdown",
   "metadata": {
    "cellId": "4qr1lxrgubyc11isxuduk6",
    "id": "MOML3eq_v1bW"
   },
   "source": []
  },
  {
   "cell_type": "code",
   "execution_count": null,
   "metadata": {
    "cellId": "p0ltx0obd6ouwa94dtend",
    "id": "3DsS6bkwv1bW"
   },
   "outputs": [],
   "source": [
    "%load_ext autoreload\n",
    "%autoreload 2"
   ]
  },
  {
   "cell_type": "markdown",
   "metadata": {
    "cellId": "9uylwuwzrjree6751a94ke",
    "id": "IVifyiz-v1bX"
   },
   "source": [
    "### Загрузка датасета"
   ]
  },
  {
   "cell_type": "code",
   "execution_count": null,
   "metadata": {
    "cellId": "53zbuzaj5wg3e4zlyfo9g",
    "id": "HSdGrD44v1bX"
   },
   "outputs": [],
   "source": []
  },
  {
   "cell_type": "markdown",
   "metadata": {
    "id": "ei8jN45Rr8dw"
   },
   "source": [
    "Для применения методов будем использовать датасет Movielens. Он представляет из себя оценки, которые пользователи поставили просмотренным фильмам и небольшие описания самих фильмов.\n",
    "\n",
    "Для удобства изучения разных алгоритмов исследовательская группа, которая занимается разработкой датасета, подготовила данные разного объёма: 100к рейтингов, 1М, 10М, 20М. В этой работе мы будем пользоваться самым маленьким."
   ]
  },
  {
   "cell_type": "code",
   "execution_count": null,
   "metadata": {
    "id": "wPWXnM8Uv1bX"
   },
   "outputs": [],
   "source": [
    "ratings, movies = ml100k.load()"
   ]
  },
  {
   "cell_type": "code",
   "execution_count": null,
   "metadata": {
    "id": "oLg6QFinsZFM",
    "colab": {
     "base_uri": "https://localhost:8080/",
     "height": 206
    },
    "outputId": "52b2206e-a9a4-4922-f759-f81bee2bdadf"
   },
   "outputs": [
    {
     "output_type": "execute_result",
     "data": {
      "text/plain": [
       "   userid  itemid  rating\n",
       "0       1       1       5\n",
       "1       1       2       3\n",
       "2       1       3       4\n",
       "3       1       4       3\n",
       "4       1       5       3"
      ],
      "text/html": [
       "\n",
       "  <div id=\"df-1dc6dd98-c94b-4b0d-8b14-0c2737aa37bd\">\n",
       "    <div class=\"colab-df-container\">\n",
       "      <div>\n",
       "<style scoped>\n",
       "    .dataframe tbody tr th:only-of-type {\n",
       "        vertical-align: middle;\n",
       "    }\n",
       "\n",
       "    .dataframe tbody tr th {\n",
       "        vertical-align: top;\n",
       "    }\n",
       "\n",
       "    .dataframe thead th {\n",
       "        text-align: right;\n",
       "    }\n",
       "</style>\n",
       "<table border=\"1\" class=\"dataframe\">\n",
       "  <thead>\n",
       "    <tr style=\"text-align: right;\">\n",
       "      <th></th>\n",
       "      <th>userid</th>\n",
       "      <th>itemid</th>\n",
       "      <th>rating</th>\n",
       "    </tr>\n",
       "  </thead>\n",
       "  <tbody>\n",
       "    <tr>\n",
       "      <th>0</th>\n",
       "      <td>1</td>\n",
       "      <td>1</td>\n",
       "      <td>5</td>\n",
       "    </tr>\n",
       "    <tr>\n",
       "      <th>1</th>\n",
       "      <td>1</td>\n",
       "      <td>2</td>\n",
       "      <td>3</td>\n",
       "    </tr>\n",
       "    <tr>\n",
       "      <th>2</th>\n",
       "      <td>1</td>\n",
       "      <td>3</td>\n",
       "      <td>4</td>\n",
       "    </tr>\n",
       "    <tr>\n",
       "      <th>3</th>\n",
       "      <td>1</td>\n",
       "      <td>4</td>\n",
       "      <td>3</td>\n",
       "    </tr>\n",
       "    <tr>\n",
       "      <th>4</th>\n",
       "      <td>1</td>\n",
       "      <td>5</td>\n",
       "      <td>3</td>\n",
       "    </tr>\n",
       "  </tbody>\n",
       "</table>\n",
       "</div>\n",
       "      <button class=\"colab-df-convert\" onclick=\"convertToInteractive('df-1dc6dd98-c94b-4b0d-8b14-0c2737aa37bd')\"\n",
       "              title=\"Convert this dataframe to an interactive table.\"\n",
       "              style=\"display:none;\">\n",
       "        \n",
       "  <svg xmlns=\"http://www.w3.org/2000/svg\" height=\"24px\"viewBox=\"0 0 24 24\"\n",
       "       width=\"24px\">\n",
       "    <path d=\"M0 0h24v24H0V0z\" fill=\"none\"/>\n",
       "    <path d=\"M18.56 5.44l.94 2.06.94-2.06 2.06-.94-2.06-.94-.94-2.06-.94 2.06-2.06.94zm-11 1L8.5 8.5l.94-2.06 2.06-.94-2.06-.94L8.5 2.5l-.94 2.06-2.06.94zm10 10l.94 2.06.94-2.06 2.06-.94-2.06-.94-.94-2.06-.94 2.06-2.06.94z\"/><path d=\"M17.41 7.96l-1.37-1.37c-.4-.4-.92-.59-1.43-.59-.52 0-1.04.2-1.43.59L10.3 9.45l-7.72 7.72c-.78.78-.78 2.05 0 2.83L4 21.41c.39.39.9.59 1.41.59.51 0 1.02-.2 1.41-.59l7.78-7.78 2.81-2.81c.8-.78.8-2.07 0-2.86zM5.41 20L4 18.59l7.72-7.72 1.47 1.35L5.41 20z\"/>\n",
       "  </svg>\n",
       "      </button>\n",
       "      \n",
       "  <style>\n",
       "    .colab-df-container {\n",
       "      display:flex;\n",
       "      flex-wrap:wrap;\n",
       "      gap: 12px;\n",
       "    }\n",
       "\n",
       "    .colab-df-convert {\n",
       "      background-color: #E8F0FE;\n",
       "      border: none;\n",
       "      border-radius: 50%;\n",
       "      cursor: pointer;\n",
       "      display: none;\n",
       "      fill: #1967D2;\n",
       "      height: 32px;\n",
       "      padding: 0 0 0 0;\n",
       "      width: 32px;\n",
       "    }\n",
       "\n",
       "    .colab-df-convert:hover {\n",
       "      background-color: #E2EBFA;\n",
       "      box-shadow: 0px 1px 2px rgba(60, 64, 67, 0.3), 0px 1px 3px 1px rgba(60, 64, 67, 0.15);\n",
       "      fill: #174EA6;\n",
       "    }\n",
       "\n",
       "    [theme=dark] .colab-df-convert {\n",
       "      background-color: #3B4455;\n",
       "      fill: #D2E3FC;\n",
       "    }\n",
       "\n",
       "    [theme=dark] .colab-df-convert:hover {\n",
       "      background-color: #434B5C;\n",
       "      box-shadow: 0px 1px 3px 1px rgba(0, 0, 0, 0.15);\n",
       "      filter: drop-shadow(0px 1px 2px rgba(0, 0, 0, 0.3));\n",
       "      fill: #FFFFFF;\n",
       "    }\n",
       "  </style>\n",
       "\n",
       "      <script>\n",
       "        const buttonEl =\n",
       "          document.querySelector('#df-1dc6dd98-c94b-4b0d-8b14-0c2737aa37bd button.colab-df-convert');\n",
       "        buttonEl.style.display =\n",
       "          google.colab.kernel.accessAllowed ? 'block' : 'none';\n",
       "\n",
       "        async function convertToInteractive(key) {\n",
       "          const element = document.querySelector('#df-1dc6dd98-c94b-4b0d-8b14-0c2737aa37bd');\n",
       "          const dataTable =\n",
       "            await google.colab.kernel.invokeFunction('convertToInteractive',\n",
       "                                                     [key], {});\n",
       "          if (!dataTable) return;\n",
       "\n",
       "          const docLinkHtml = 'Like what you see? Visit the ' +\n",
       "            '<a target=\"_blank\" href=https://colab.research.google.com/notebooks/data_table.ipynb>data table notebook</a>'\n",
       "            + ' to learn more about interactive tables.';\n",
       "          element.innerHTML = '';\n",
       "          dataTable['output_type'] = 'display_data';\n",
       "          await google.colab.output.renderOutput(dataTable, element);\n",
       "          const docLink = document.createElement('div');\n",
       "          docLink.innerHTML = docLinkHtml;\n",
       "          element.appendChild(docLink);\n",
       "        }\n",
       "      </script>\n",
       "    </div>\n",
       "  </div>\n",
       "  "
      ]
     },
     "metadata": {},
     "execution_count": 5
    }
   ],
   "source": [
    "ratings.head()"
   ]
  },
  {
   "cell_type": "code",
   "execution_count": null,
   "metadata": {
    "id": "plbJAU3FV12n",
    "colab": {
     "base_uri": "https://localhost:8080/",
     "height": 206
    },
    "outputId": "fdbc660b-8401-4881-f2ee-11677f6f593b"
   },
   "outputs": [
    {
     "output_type": "execute_result",
     "data": {
      "text/plain": [
       "   itemid              title\n",
       "0       1   Toy Story (1995)\n",
       "1       2   GoldenEye (1995)\n",
       "2       3  Four Rooms (1995)\n",
       "3       4  Get Shorty (1995)\n",
       "4       5     Copycat (1995)"
      ],
      "text/html": [
       "\n",
       "  <div id=\"df-cf01eaf6-136a-4715-86d3-96490d651ca3\">\n",
       "    <div class=\"colab-df-container\">\n",
       "      <div>\n",
       "<style scoped>\n",
       "    .dataframe tbody tr th:only-of-type {\n",
       "        vertical-align: middle;\n",
       "    }\n",
       "\n",
       "    .dataframe tbody tr th {\n",
       "        vertical-align: top;\n",
       "    }\n",
       "\n",
       "    .dataframe thead th {\n",
       "        text-align: right;\n",
       "    }\n",
       "</style>\n",
       "<table border=\"1\" class=\"dataframe\">\n",
       "  <thead>\n",
       "    <tr style=\"text-align: right;\">\n",
       "      <th></th>\n",
       "      <th>itemid</th>\n",
       "      <th>title</th>\n",
       "    </tr>\n",
       "  </thead>\n",
       "  <tbody>\n",
       "    <tr>\n",
       "      <th>0</th>\n",
       "      <td>1</td>\n",
       "      <td>Toy Story (1995)</td>\n",
       "    </tr>\n",
       "    <tr>\n",
       "      <th>1</th>\n",
       "      <td>2</td>\n",
       "      <td>GoldenEye (1995)</td>\n",
       "    </tr>\n",
       "    <tr>\n",
       "      <th>2</th>\n",
       "      <td>3</td>\n",
       "      <td>Four Rooms (1995)</td>\n",
       "    </tr>\n",
       "    <tr>\n",
       "      <th>3</th>\n",
       "      <td>4</td>\n",
       "      <td>Get Shorty (1995)</td>\n",
       "    </tr>\n",
       "    <tr>\n",
       "      <th>4</th>\n",
       "      <td>5</td>\n",
       "      <td>Copycat (1995)</td>\n",
       "    </tr>\n",
       "  </tbody>\n",
       "</table>\n",
       "</div>\n",
       "      <button class=\"colab-df-convert\" onclick=\"convertToInteractive('df-cf01eaf6-136a-4715-86d3-96490d651ca3')\"\n",
       "              title=\"Convert this dataframe to an interactive table.\"\n",
       "              style=\"display:none;\">\n",
       "        \n",
       "  <svg xmlns=\"http://www.w3.org/2000/svg\" height=\"24px\"viewBox=\"0 0 24 24\"\n",
       "       width=\"24px\">\n",
       "    <path d=\"M0 0h24v24H0V0z\" fill=\"none\"/>\n",
       "    <path d=\"M18.56 5.44l.94 2.06.94-2.06 2.06-.94-2.06-.94-.94-2.06-.94 2.06-2.06.94zm-11 1L8.5 8.5l.94-2.06 2.06-.94-2.06-.94L8.5 2.5l-.94 2.06-2.06.94zm10 10l.94 2.06.94-2.06 2.06-.94-2.06-.94-.94-2.06-.94 2.06-2.06.94z\"/><path d=\"M17.41 7.96l-1.37-1.37c-.4-.4-.92-.59-1.43-.59-.52 0-1.04.2-1.43.59L10.3 9.45l-7.72 7.72c-.78.78-.78 2.05 0 2.83L4 21.41c.39.39.9.59 1.41.59.51 0 1.02-.2 1.41-.59l7.78-7.78 2.81-2.81c.8-.78.8-2.07 0-2.86zM5.41 20L4 18.59l7.72-7.72 1.47 1.35L5.41 20z\"/>\n",
       "  </svg>\n",
       "      </button>\n",
       "      \n",
       "  <style>\n",
       "    .colab-df-container {\n",
       "      display:flex;\n",
       "      flex-wrap:wrap;\n",
       "      gap: 12px;\n",
       "    }\n",
       "\n",
       "    .colab-df-convert {\n",
       "      background-color: #E8F0FE;\n",
       "      border: none;\n",
       "      border-radius: 50%;\n",
       "      cursor: pointer;\n",
       "      display: none;\n",
       "      fill: #1967D2;\n",
       "      height: 32px;\n",
       "      padding: 0 0 0 0;\n",
       "      width: 32px;\n",
       "    }\n",
       "\n",
       "    .colab-df-convert:hover {\n",
       "      background-color: #E2EBFA;\n",
       "      box-shadow: 0px 1px 2px rgba(60, 64, 67, 0.3), 0px 1px 3px 1px rgba(60, 64, 67, 0.15);\n",
       "      fill: #174EA6;\n",
       "    }\n",
       "\n",
       "    [theme=dark] .colab-df-convert {\n",
       "      background-color: #3B4455;\n",
       "      fill: #D2E3FC;\n",
       "    }\n",
       "\n",
       "    [theme=dark] .colab-df-convert:hover {\n",
       "      background-color: #434B5C;\n",
       "      box-shadow: 0px 1px 3px 1px rgba(0, 0, 0, 0.15);\n",
       "      filter: drop-shadow(0px 1px 2px rgba(0, 0, 0, 0.3));\n",
       "      fill: #FFFFFF;\n",
       "    }\n",
       "  </style>\n",
       "\n",
       "      <script>\n",
       "        const buttonEl =\n",
       "          document.querySelector('#df-cf01eaf6-136a-4715-86d3-96490d651ca3 button.colab-df-convert');\n",
       "        buttonEl.style.display =\n",
       "          google.colab.kernel.accessAllowed ? 'block' : 'none';\n",
       "\n",
       "        async function convertToInteractive(key) {\n",
       "          const element = document.querySelector('#df-cf01eaf6-136a-4715-86d3-96490d651ca3');\n",
       "          const dataTable =\n",
       "            await google.colab.kernel.invokeFunction('convertToInteractive',\n",
       "                                                     [key], {});\n",
       "          if (!dataTable) return;\n",
       "\n",
       "          const docLinkHtml = 'Like what you see? Visit the ' +\n",
       "            '<a target=\"_blank\" href=https://colab.research.google.com/notebooks/data_table.ipynb>data table notebook</a>'\n",
       "            + ' to learn more about interactive tables.';\n",
       "          element.innerHTML = '';\n",
       "          dataTable['output_type'] = 'display_data';\n",
       "          await google.colab.output.renderOutput(dataTable, element);\n",
       "          const docLink = document.createElement('div');\n",
       "          docLink.innerHTML = docLinkHtml;\n",
       "          element.appendChild(docLink);\n",
       "        }\n",
       "      </script>\n",
       "    </div>\n",
       "  </div>\n",
       "  "
      ]
     },
     "metadata": {},
     "execution_count": 6
    }
   ],
   "source": [
    "movies.head()"
   ]
  },
  {
   "cell_type": "markdown",
   "metadata": {
    "cellId": "72xbmj2k4qqz2ybj3odc",
    "id": "yruhwBKkv1bX"
   },
   "source": [
    "### Предобработка датасета"
   ]
  },
  {
   "cell_type": "code",
   "execution_count": null,
   "metadata": {
    "cellId": "62d8v8iu69h4uze9odubav",
    "id": "4GXx4kVWv1bX"
   },
   "outputs": [],
   "source": [
    "def ids_encoder(ratings):\n",
    "    users = sorted(ratings['userid'].unique())\n",
    "    items = sorted(ratings['itemid'].unique())\n",
    "\n",
    "    # create users and items encoders\n",
    "    uencoder = LabelEncoder()\n",
    "    iencoder = LabelEncoder()\n",
    "\n",
    "    # fit users and items ids to the corresponding encoder\n",
    "    uencoder.fit(users)\n",
    "    iencoder.fit(items)\n",
    "\n",
    "    # encode userids and itemids\n",
    "    ratings.userid = uencoder.transform(ratings.userid.tolist())\n",
    "    ratings.itemid = iencoder.transform(ratings.itemid.tolist())\n",
    "\n",
    "    return ratings, uencoder, iencoder"
   ]
  },
  {
   "cell_type": "code",
   "execution_count": null,
   "metadata": {
    "cellId": "pbcolehyqc90qf4r6u6n9",
    "id": "tLmj2sWuv1bY"
   },
   "outputs": [],
   "source": [
    "# create the encoder\n",
    "ratings, uencoder, iencoder = ids_encoder(ratings)"
   ]
  },
  {
   "cell_type": "markdown",
   "metadata": {
    "cellId": "xs72r2xxg2j9vcam9ezl8",
    "id": "da46j6zMv1bY"
   },
   "source": [
    "## Реализация алгоритма"
   ]
  },
  {
   "cell_type": "markdown",
   "metadata": {
    "cellId": "hseep36n118brjb0uuee4b",
    "id": "8-IZJfnWv1bZ"
   },
   "source": [
    "### Шаг 1. Вычислить похожести между айтемами"
   ]
  },
  {
   "cell_type": "markdown",
   "metadata": {
    "id": "NgTJIeh4uCrP"
   },
   "source": [
    "#### adjustied cosine similarity\n",
    "\n",
    "Вспомним, что каждый айтем можно представить как вектор оценок пользователей, тогда для оценки похожести можно использовать:\n",
    "1. Косинусное расстояние\n",
    "2. Ajusted Cosine Similarity\n",
    "3. Евклидово расстояние\n",
    "4. Манхэттенское расстояние\n",
    "5. Коэффициент Жаккара"
   ]
  },
  {
   "cell_type": "markdown",
   "metadata": {
    "id": "C1rSNwK7v1bb"
   },
   "source": [
    "\n",
    "\n",
    "В item-based рекомендациях к-т adjustied cosine similarity доказал свою эффективность, поэтому будем использовать его. Схожесть между айтемами $i$ и $j$ считается по формуле:\n"
   ]
  },
  {
   "cell_type": "markdown",
   "metadata": {
    "cellId": "wfd7z0lf61z0i6ur83d2",
    "id": "-2OkygNZv1bb"
   },
   "source": [
    "\\begin{equation}\n",
    " w_{i,j}= \\frac{\\sum_{u\\in U}(r_{u,i}-\\bar{r}_u)(r_{u,j}-\\bar{r}_u)}{\\sqrt{\\sum_{u\\in U} (r_{u,i}-\\bar{r}_u)^2}\\sqrt{\\sum_{u\\in U} (r_{u,j}-\\bar{r}_u)^2}}.\n",
    "\\end{equation}"
   ]
  },
  {
   "cell_type": "markdown",
   "metadata": {
    "cellId": "qkjdwv480rbe8p6xoqf8hb",
    "id": "2PtDXI6Iv1bZ"
   },
   "source": [
    "Итак, чтобы вычислить похожесть между айтемами $i$ и $j$, нужно\n",
    "\n",
    "1. Выявить всех пользователей, которые оценили оба айтема, т.е. $U_i \\cap U_j$;\n",
    "2. Нормализовать рейтинги айтемов $i$ и $j$;\n",
    "3. Посчитать похожесть между векторами общих рейтингов $i$ и $j$.\n"
   ]
  },
  {
   "cell_type": "markdown",
   "metadata": {
    "id": "egzC9jh5v1bZ"
   },
   "source": [
    "Проведём подготовительную работу и нормализуем рейтинги всех пользователей:"
   ]
  },
  {
   "cell_type": "code",
   "execution_count": null,
   "metadata": {
    "cellId": "9ipkwjqjb6fvn2pp6wb5fq",
    "id": "e325DrNhv1bZ"
   },
   "outputs": [],
   "source": [
    "def normalize(ratings: pd.DataFrame) -> pd.DataFrame:\n",
    "    \"\"\"\n",
    "    Нормализует рейтинги по пользователям. Из каждого рейтинга вычитает средний рейтинг по пользователю.\n",
    "    ratings: таблица рейтингов\n",
    "    \n",
    "    Возвращает: \n",
    "        Таблица, содержащая все колонки таблицы `ratings` и колонку `norm_rating` с нормализованными рейтингами.\n",
    "    \"\"\"\n",
    "    # your code here"
   ]
  },
  {
   "cell_type": "code",
   "execution_count": null,
   "metadata": {
    "id": "qBwrqi2i8mcS"
   },
   "outputs": [],
   "source": []
  },
  {
   "cell_type": "code",
   "execution_count": null,
   "metadata": {
    "id": "isTOB7asv1ba"
   },
   "outputs": [],
   "source": [
    "def test_normalize():\n",
    "    test_df = pd.DataFrame({\n",
    "        \"userid\": [0, 0, 0, 1, 1],\n",
    "        \"itemid\": [0, 1, 2, 1, 3],\n",
    "        \"rating\": [2, 2, 5, 5, 5],\n",
    "    })\n",
    "    \n",
    "    expected = pd.DataFrame({\n",
    "        \"userid\": [0, 0, 0, 1, 1],\n",
    "        \"itemid\": [0, 1, 2, 1, 3],\n",
    "        \"rating\": [2, 2, 5, 5, 5],\n",
    "        \"norm_rating\": [-1, -1, 2, 0, 0]\n",
    "    })    \n",
    "    \n",
    "    assert test_df.shape[0] == expected.shape[0], \"Number of user-item interactions is different\"\n",
    "    assert test_df.shape[1] + 1 == expected.shape[1], \"Number of columns is incorrect\"\n",
    "    assert (normalize(test_df) == expected).all().all(), \"Result is incorrect\"\n",
    "    \n",
    "test_normalize()"
   ]
  },
  {
   "cell_type": "code",
   "execution_count": null,
   "metadata": {
    "cellId": "py2xe668c2bq26cxnvlqhn",
    "id": "7l7BkAB9v1ba",
    "scrolled": true
   },
   "outputs": [],
   "source": [
    "norm_ratings = normalize(ratings)\n",
    "np_ratings = norm_ratings.to_numpy()\n",
    "norm_ratings.head()"
   ]
  },
  {
   "cell_type": "markdown",
   "metadata": {
    "id": "EzCNpi1kv1ba"
   },
   "source": [
    "Итак, мы вычислили средний рейтинг для каждого пользователя. Теперь мы готовы к вычислению похожестей айтемов."
   ]
  },
  {
   "cell_type": "code",
   "execution_count": null,
   "metadata": {
    "id": "SpjOat_l5DXI"
   },
   "outputs": [],
   "source": [
    "def cosine(x: np.array, y: np.array) -> float:\n",
    "    \"\"\"\n",
    "    Функция, вычисляющая косинус между векторами x и y.\n",
    "    \"\"\"\n",
    "    if np.linalg.norm(x) == 0 or np.linalg.norm(y) == 0:\n",
    "        return 0\n",
    "    return np.dot(x, y) / (np.linalg.norm(x) * np.linalg.norm(y))"
   ]
  },
  {
   "cell_type": "code",
   "execution_count": null,
   "metadata": {
    "id": "LHykuwc7v1bb"
   },
   "outputs": [],
   "source": [
    "from functools import lru_cache\n",
    "\n",
    "@lru_cache(2000)\n",
    "def ratings_for_item(i):\n",
    "    return np_ratings[np_ratings[:, 1] == i]\n",
    "\n",
    "def calculate_similarity_between_two(np_ratings: np.array, i: int, j: int) -> float:\n",
    "    \"\"\"\n",
    "    np_ratings: массив, каждый элемент которого является набором (user_id, item_id, rating, norm_rating)\n",
    "    i: номер первого айтема для вычисления похожести\n",
    "    j: номер второго айтема для вычисления похожести\n",
    "    \n",
    "    Возвращает значение adjustied cosine similarity для айтемов i и j.\n",
    "    \"\"\"\n",
    "    # your code here"
   ]
  },
  {
   "cell_type": "code",
   "execution_count": null,
   "metadata": {
    "id": "od1s7H5h5d7s"
   },
   "outputs": [],
   "source": [
    "assert np.isclose(calculate_similarity_between_two(np_ratings, 0, 0), 1.0)\n",
    "assert np.isclose(calculate_similarity_between_two(np_ratings, 1, 2), 0.1069226)\n",
    "assert np.isclose(calculate_similarity_between_two(np_ratings, 1, 3), 0.0555092)\n",
    "assert np.isclose(calculate_similarity_between_two(np_ratings, 1, 5), -0.125509)\n",
    "assert np.isclose(calculate_similarity_between_two(np_ratings, 1, 1431), 1.0)\n",
    "assert np.isclose(calculate_similarity_between_two(np_ratings, 4, 1123), 0.0)"
   ]
  },
  {
   "cell_type": "code",
   "execution_count": null,
   "metadata": {
    "id": "BV3cDuJ9LndX"
   },
   "outputs": [],
   "source": [
    "def adjusted_cosine(np_ratings: np.array, similarity_between_two) -> tp.Tuple[np.array, np.array]:\n",
    "    \"\"\"\n",
    "    Функция, вычисляющая adjustied cosine similarity для всевозможных пар айтемов (i, j).\n",
    "    \n",
    "    np_ratings: массив, каждый элемент которого является набором (user_id, item_id, rating, norm_rating)\n",
    "    similarity_between_two: функция для подсчёта похожестей между двумя айтемами, принимает на вход массив с рейтингами и айди айтемов для подсчёта похожестей\n",
    "    \n",
    "    Возвращает:\n",
    "        1. массив размера |I|x|I|, в i-ой строке которого расположены в порядке убывания похожести i-го айтема\n",
    "        2. массив размера |I|x|I|, в i-ой строке которого расположены айди айтемов \n",
    "            в порядке убывания их похожестей с i-ым айтемом\n",
    "    \"\"\"\n",
    "    nb_items = np.unique(np_ratings[:, 1]).size\n",
    "    similarities = np.zeros(shape=(nb_items, nb_items))\n",
    "    np.fill_diagonal(similarities, 1)\n",
    "    items = sorted(set(map(int, np_ratings[:, 1])))\n",
    "    \n",
    "    for i in tqdm(range(len(items))):\n",
    "        for j in range(i + 1, len(items)):\n",
    "            # your code here\n",
    "    assert np.all(similarities.T == similarities), 'Similarity matrix should be symmetrical'\n",
    "    assert np.allclose(np.diag(similarities), 1.0), 'Similarities of items with themselves should be 1'\n",
    "    \n",
    "    # get neighbors by their neighbors in decreasing order of similarities\n",
    "    neighbors = np.flip(np.argsort(similarities), axis=1)\n",
    "    \n",
    "    # sort similarities in decreasing order\n",
    "    similarities = np.flip(np.sort(similarities), axis=1)\n",
    "        \n",
    "    return similarities, neighbors"
   ]
  },
  {
   "cell_type": "code",
   "execution_count": null,
   "metadata": {
    "id": "9TmPZMJI8mcT"
   },
   "outputs": [],
   "source": []
  },
  {
   "cell_type": "markdown",
   "metadata": {
    "id": "d_PBpLpJv1bc"
   },
   "source": [
    "Вспользуемся написанной функцией:"
   ]
  },
  {
   "cell_type": "code",
   "execution_count": null,
   "metadata": {
    "cellId": "05t1irayiuvmhd88eg6y6c",
    "id": "l3wKNAwLv1bc"
   },
   "outputs": [],
   "source": [
    "similarities, neighbors = adjusted_cosine(np_ratings, calculate_similarity_between_two)"
   ]
  },
  {
   "cell_type": "code",
   "execution_count": null,
   "metadata": {
    "id": "I6H1mQDhv1bc"
   },
   "outputs": [],
   "source": [
    "def sorted_neighbors(similarities, neighbors):\n",
    "    return [i[1] for i in sorted(zip(similarities, neighbors), key=lambda x: (x[0], -x[1]))][::-1]\n",
    "\n",
    "assert np.equal(sorted_neighbors(similarities[1], neighbors[1])[:10], \n",
    "            [1, 295, 307, 313, 358, 642, 705, 756, 821, 829]).all()\n",
    "assert np.equal(sorted_neighbors(similarities[2], neighbors[2])[:10], \n",
    "            [2, 112, 118, 313, 343, 376, 453, 535, 591, 593]).all() \n",
    "assert np.equal(sorted_neighbors(similarities[201], neighbors[201])[:10], \n",
    "            [201, 360, 598, 676, 813, 847, 1079, 1095, 1105, 1122]).all()\n",
    "assert np.equal(sorted_neighbors(similarities[800], neighbors[800])[:10], \n",
    "            [9, 18, 33, 35, 36, 44, 56, 73, 103, 212]).all()"
   ]
  },
  {
   "cell_type": "markdown",
   "metadata": {
    "id": "xzZTgr1Wv1bd"
   },
   "source": [
    "Посмотрим глазами на списки соседей, которые мы получили."
   ]
  },
  {
   "cell_type": "code",
   "execution_count": null,
   "metadata": {
    "id": "g0j0C9p-v1bd"
   },
   "outputs": [],
   "source": [
    "def neighbours_viz(item_id: int, movies: pd.DataFrame,\n",
    "                          similarities: np.array, neighbours: np.array, k=5):\n",
    "    \"\"\"\n",
    "    item_id: id фильма, для которого вычисляются соседи\n",
    "    movies: таблица с данными о фильмах\n",
    "    similarities: массив похожестей\n",
    "    neighbours: массив соседей для всех айтемов\n",
    "    \"\"\"\n",
    "    film_name = movies[movies.itemid == iencoder.inverse_transform([item_id])[0]].title.values[0]\n",
    "    similar_films = (\n",
    "        (neighbor_id, movies[movies.itemid == iencoder.inverse_transform([neighbor_id])[0]].title.values[0], similarity)\n",
    "        for neighbor_id, similarity in zip(neighbors[item_id][:k], similarities[item_id][:k])\n",
    "    )\n",
    "    display(pd.DataFrame(dict(zip(('item_id', film_name, 'Similarity'), zip(*similar_films)))))\n",
    "    print('\\n')"
   ]
  },
  {
   "cell_type": "code",
   "execution_count": null,
   "metadata": {
    "id": "OHlDuu-f9G5g"
   },
   "outputs": [],
   "source": [
    "neighbours_viz(49, movies, similarities, neighbors)\n",
    "neighbours_viz(68, movies, similarities, neighbors)\n",
    "neighbours_viz(154, movies, similarities, neighbors)\n",
    "neighbours_viz(200, movies, similarities, neighbors)"
   ]
  },
  {
   "cell_type": "code",
   "execution_count": null,
   "metadata": {
    "id": "ykAWpIp08mcV"
   },
   "outputs": [],
   "source": [
    "len(np_ratings[np_ratings[:, 1] == 1634])"
   ]
  },
  {
   "cell_type": "markdown",
   "metadata": {
    "id": "PQfUUfdnKxuS"
   },
   "source": [
    "Как вам кажется, получились ли у нас хорошие результаты? Что объединяет нерелевантные айтемы из топов по похожестям?"
   ]
  },
  {
   "cell_type": "code",
   "execution_count": null,
   "metadata": {
    "id": "Y70IKhWnKw8b"
   },
   "outputs": [],
   "source": [
    "def calculate_similarity_between_two_with_threshold(np_ratings: np.array, i: int, j: int) -> float:\n",
    "    \"\"\"\n",
    "    np_ratings: массив, каждый элемент которого является набором (user_id, item_id, rating, norm_rating)\n",
    "    i: номер первого айтема для вычисления похожести\n",
    "    j: номер второго айтема для вычисления похожести\n",
    "\n",
    "    Возвращает значение adjustied cosine similarity для айтемов i и j. \n",
    "    \"\"\"\n",
    "    THRESHOLD = 20 # порог для числа общих юзеров. считаем пару валидной если общее число больше порога\n",
    "    # your code here"
   ]
  },
  {
   "cell_type": "code",
   "execution_count": null,
   "metadata": {
    "id": "0o_KjzkjrPJT"
   },
   "outputs": [],
   "source": [
    "assert np.isclose(calculate_similarity_between_two_with_threshold(np_ratings, 1, 1431), 0)\n",
    "assert np.isclose(calculate_similarity_between_two_with_threshold(np_ratings, 1, 17), 0)\n",
    "assert np.isclose(calculate_similarity_between_two_with_threshold(np_ratings, 4, 1123), 0)\n",
    "assert np.isclose(calculate_similarity_between_two_with_threshold(np_ratings, 914, 1681), 0)"
   ]
  },
  {
   "cell_type": "code",
   "execution_count": null,
   "metadata": {
    "id": "aUIBULBI8mcW"
   },
   "outputs": [],
   "source": [
    "calculate_similarity_between_two_with_threshold(np_ratings, 49, 840)"
   ]
  },
  {
   "cell_type": "code",
   "execution_count": null,
   "metadata": {
    "id": "Kbx1ElEPLFF6"
   },
   "outputs": [],
   "source": [
    "similarities, neighbors = adjusted_cosine(np_ratings, calculate_similarity_between_two_with_threshold)"
   ]
  },
  {
   "cell_type": "markdown",
   "metadata": {
    "id": "z4QXqO2a9n9n"
   },
   "source": [
    "Посмотрим, что получилось теперь:"
   ]
  },
  {
   "cell_type": "code",
   "execution_count": null,
   "metadata": {
    "id": "Q6n8kbeg9nS9"
   },
   "outputs": [],
   "source": [
    "neighbours_viz(49, movies, similarities, neighbors)\n",
    "neighbours_viz(68, movies, similarities, neighbors)\n",
    "neighbours_viz(154, movies, similarities, neighbors)\n",
    "neighbours_viz(200, movies, similarities, neighbors)"
   ]
  },
  {
   "cell_type": "markdown",
   "metadata": {
    "cellId": "hseep36n118brjb0uuee4b",
    "id": "TyLvzZfBv1bd"
   },
   "source": [
    "### Шаг 2. Выбрать топ рекомендаций для пользователя"
   ]
  },
  {
   "cell_type": "markdown",
   "metadata": {
    "id": "oXxnirjyv1be"
   },
   "source": [
    "Теперь, когда для каждого айтема есть список похожих, научимся формировать рекомендацию для пользователя.\n",
    "\n",
    "#### Отбор кандидатов\n",
    "\n",
    "1. Для каждого айтема из истории соберём сет из k самых похожих айтемов\n",
    "2. Объединим полученные сеты\n",
    "3. Уберём из полученного множества те айтемы, с которыми пользователь уже взаимодействовал"
   ]
  },
  {
   "cell_type": "code",
   "execution_count": null,
   "metadata": {
    "cellId": "g318akv7ffe8fg0iufcoxw",
    "id": "cwWDrpN5v1be"
   },
   "outputs": [],
   "source": [
    "def candidate_items(np_ratings: np.array, userid: int, k=-1) -> tp.Tuple[np.array, np.array]:\n",
    "    \"\"\"\n",
    "    np_ratings: массив, каждый элемент которого является набором (user_id, item_id, rating, norm_rating)\n",
    "    userid: id пользователя, для которого генерируются кандидаты\n",
    "    k: количество кандидатов с каждого айтема из истории\n",
    "    \n",
    "    Возвращает \n",
    "        1. массив user_item_ids с id фильмов, просмотренных пользователем\n",
    "        2. массив айтемов, близких к айтемам из истории пользователя\n",
    "    \"\"\"\n",
    "    \n",
    "    # your code here"
   ]
  },
  {
   "cell_type": "code",
   "execution_count": null,
   "metadata": {
    "cellId": "8tx2ejas3twa354gtswotm",
    "id": "RvwdB11Jv1be"
   },
   "outputs": [],
   "source": [
    "user_item_ids, u_candidates = candidate_items(np_ratings, uencoder.transform([3])[0])\n",
    "\n",
    "print('Количество просмотренных фильмов пользователя 1:', len(user_item_ids))\n",
    "print('Количество кандидатов для пользователя 1:', len(u_candidates))"
   ]
  },
  {
   "cell_type": "code",
   "execution_count": null,
   "metadata": {
    "id": "1UMBD0_lv1be"
   },
   "outputs": [],
   "source": [
    "user_item_ids_test, u_candidates_test = candidate_items(np_ratings, uencoder.transform([1])[0])\n",
    "assert len(user_item_ids_test) == 272\n",
    "assert len(u_candidates_test) == 1410\n",
    "\n",
    "user_item_ids_test, u_candidates_test = candidate_items(np_ratings, uencoder.transform([50])[0])\n",
    "assert len(user_item_ids_test) == 24\n",
    "assert len(u_candidates_test) == 1658\n",
    "\n",
    "user_item_ids_test, u_candidates_test = candidate_items(np_ratings, uencoder.transform([200])[0], 30)\n",
    "assert len(user_item_ids_test) == 216\n",
    "assert len(u_candidates_test) == 607\n",
    "\n",
    "user_item_ids_test, u_candidates_test = candidate_items(np_ratings, uencoder.transform([200])[0], 15)\n",
    "assert len(user_item_ids_test) == 216\n",
    "assert len(u_candidates_test) == 526\n",
    "\n",
    "user_item_ids_test, u_candidates_test = candidate_items(np_ratings, uencoder.transform([942])[0])\n",
    "assert len(user_item_ids_test) == 79\n",
    "assert len(u_candidates_test) == 1603\n",
    "\n",
    "del user_item_ids_test, u_candidates_test"
   ]
  },
  {
   "cell_type": "markdown",
   "metadata": {
    "cellId": "2t3p1thkyiwapp43oni90l",
    "id": "Ep4AmKdOv1be"
   },
   "source": [
    "#### Вычисление похожести между кандидатом и множеством айтемов из истории пользователя u"
   ]
  },
  {
   "cell_type": "code",
   "execution_count": null,
   "metadata": {
    "cellId": "azxskh7983hfjdsjtyzifq",
    "id": "K8GCR42Wv1bf"
   },
   "outputs": [],
   "source": [
    "def similarity_with_user_items(item_id: int, user_item_ids: np.array, similarities: np.array, neighbors: np.array) -> float:\n",
    "    \"\"\"\n",
    "    item_id: id айтема-кандидата, для которого считается похожесть с историей пользователя\n",
    "    user_item_ids: массив id фильмов, просмотренных пользователем\n",
    "    similarities: массив похожестей айтемов\n",
    "    neighbors: массив соседей для всех айтемов\n",
    "    \n",
    "    Возвращает число – похожесть айтема на историю пользователя.\n",
    "    \"\"\"\n",
    "    w = 0     \n",
    "    for i_id in user_item_ids:        \n",
    "        # get similarity between itemid and c, if c is one of the k nearest neighbors of itemid\n",
    "        # your code here  \n",
    "    return w"
   ]
  },
  {
   "cell_type": "code",
   "execution_count": null,
   "metadata": {
    "id": "pt3_t-LBv1bf"
   },
   "outputs": [],
   "source": [
    "user_item_ids_test, _ = candidate_items(np_ratings, uencoder.transform([1])[0])\n",
    "\n",
    "assert np.isclose(similarity_with_user_items(0, user_item_ids_test, similarities, neighbors), 9.852485)\n",
    "assert np.isclose(similarity_with_user_items(200, user_item_ids_test, similarities, neighbors), 5.914738)\n",
    "\n",
    "user_item_ids_test, _ = candidate_items(np_ratings, uencoder.transform([300])[0])\n",
    "\n",
    "assert np.isclose(similarity_with_user_items(200, user_item_ids_test, similarities, neighbors), 0.294773)\n",
    "assert np.isclose(similarity_with_user_items(242, user_item_ids_test, similarities, neighbors), 5.008178)"
   ]
  },
  {
   "cell_type": "markdown",
   "metadata": {
    "cellId": "2t3p1thkyiwapp43oni90l",
    "id": "BY9qaIOcv1bf"
   },
   "source": [
    "#### Ранжирование кандидатов по их похожестям на историю пользователя"
   ]
  },
  {
   "cell_type": "code",
   "execution_count": null,
   "metadata": {
    "cellId": "angr2yo0e4zk965hv14r",
    "id": "Gj3efZMqv1bf"
   },
   "outputs": [],
   "source": [
    "def rank_candidates(candidates: np.array, user_item_ids: np.array, similarities: np.array, neighbors: np.array) -> np.array:\n",
    "    \"\"\"\n",
    "    candidates: массив id фильмов-кандидатов\n",
    "    user_item_ids: массив id фильмов, просмотренных пользователем\n",
    "    similarities: массив похожестей айтемов\n",
    "    neighbors: массив соседей для всех айтемов\n",
    "    \n",
    "    Возвращает массив tuple, где первый элемент – айди айтема, второй – похожесть на историю пользователя\n",
    "    \"\"\"\n",
    "    \n",
    "    # list of candidate items mapped to their corresponding similarities to user_item_ids\n",
    "    sims = [similarity_with_user_items(c, user_item_ids, similarities, neighbors) for c in candidates]\n",
    "    candidates = iencoder.inverse_transform(candidates)    \n",
    "    mapping = list(zip(candidates, sims))\n",
    "    \n",
    "    ranked_candidates = sorted(mapping, key=lambda couple:couple[1], reverse=True)    \n",
    "    return ranked_candidates"
   ]
  },
  {
   "cell_type": "code",
   "execution_count": null,
   "metadata": {
    "id": "AJKMVQRcv1bf"
   },
   "outputs": [],
   "source": [
    "user_item_ids_test, candidates_test = candidate_items(np_ratings, uencoder.transform([1])[0])\n",
    "assert len(rank_candidates(candidates_test, user_item_ids_test, similarities, neighbors)) == len(candidates_test)\n",
    "assert rank_candidates(candidates_test, user_item_ids_test, similarities, neighbors)[0][0] == 408\n",
    "assert rank_candidates(candidates_test, user_item_ids_test, similarities, neighbors)[10][0] == 792\n",
    "assert rank_candidates(candidates_test, user_item_ids_test, similarities, neighbors)[19][0] == 661"
   ]
  },
  {
   "cell_type": "markdown",
   "metadata": {
    "id": "vJ4M9NLhv1bf"
   },
   "source": [
    "## Соберём всё вместе"
   ]
  },
  {
   "cell_type": "markdown",
   "metadata": {
    "id": "4T6EHhfUv1bf"
   },
   "source": [
    "Теперь у нас есть всё, что нужно: отбор кандидатов, ранжирующая функция и мы готовы собрать весь пайплайн item-to-item рекомендаций."
   ]
  },
  {
   "cell_type": "code",
   "execution_count": null,
   "metadata": {
    "cellId": "xbxcbljvovnf3iolf27kw",
    "id": "iV9vTfbPv1bg"
   },
   "outputs": [],
   "source": [
    "def topn_recommendation(np_ratings: np.array, userid: int, similarities: np.array, neighbors: np.array, k=-1, N=30):\n",
    "    \"\"\"\n",
    "    np_ratings: массив, каждый элемент которого является набором (user_id, item_id, rating, norm_rating)\n",
    "    userid: id пользователя, для которого генерируются кандидаты\n",
    "    similarities: массив похожестей айтемов\n",
    "    neighbors: массив соседей для всех айтемов\n",
    "    k: количество кандидатов на стадии отбора кандидатов\n",
    "    N: количество рекомендаций фильмов для пользователя\n",
    "    \n",
    "    Возвращает dataframe c рекомендацией top-N фильмов для пользователя userid.\n",
    "    \"\"\"\n",
    "    # find candidate items\n",
    "    user_item_ids, candidates = # your code here\n",
    "    \n",
    "    # rank candidate items according to their similarities with user_item_ids\n",
    "    ranked_candidates = # your code here\n",
    "    \n",
    "    # get the first N row of ranked_candidates to build the top N recommendation list\n",
    "    topn = pd.DataFrame(ranked_candidates[:N], columns=['itemid', 'similarity_with_Iu'])    \n",
    "    topn = pd.merge(topn, movies, on='itemid', how='inner')    \n",
    "    return topn"
   ]
  },
  {
   "cell_type": "markdown",
   "metadata": {
    "id": "Mi1AmzvzHXMw"
   },
   "source": [
    "Посмотрим, как это работает:"
   ]
  },
  {
   "cell_type": "code",
   "execution_count": null,
   "metadata": {
    "cellId": "oihvlnpro923jizcej58x",
    "id": "NLD9Xo6Kv1bg"
   },
   "outputs": [],
   "source": [
    "topn_recommendation(np_ratings, uencoder.transform([1])[0], similarities, neighbors)"
   ]
  },
  {
   "cell_type": "markdown",
   "metadata": {
    "id": "9thC1LQtHMNT"
   },
   "source": [
    "А теперь попробуем применить то, что у нас получилось на тестовом пользователе, для которого соберём историю просмотров сами."
   ]
  },
  {
   "cell_type": "code",
   "execution_count": null,
   "metadata": {
    "id": "vHvdh9tSHgtM"
   },
   "outputs": [],
   "source": [
    "test_history = [49, 81, 180, 256, 131, 379]\n",
    "movies.iloc[test_history]"
   ]
  },
  {
   "cell_type": "code",
   "execution_count": null,
   "metadata": {
    "id": "AJkSVqeEHmVy"
   },
   "outputs": [],
   "source": [
    "def topn_recommendations_by_user_history(user_item_ids: tp.List[int], similarities: np.array, neighbors: np.array, k=-1, N=30):\n",
    "    c = set()\n",
    "    for i_id in user_item_ids:    \n",
    "        c.update(neighbors[i_id, :k])\n",
    "    candidates = np.setdiff1d(list(c), user_item_ids, assume_unique=True)\n",
    "    \n",
    "    ranked_candidates = rank_candidates(candidates, user_item_ids, similarities, neighbors)\n",
    "    topn = pd.DataFrame(ranked_candidates[:N], columns=['itemid','similarity_with_Iu'])    \n",
    "    topn = pd.merge(topn, movies, on='itemid', how='inner')\n",
    "    return topn\n",
    "\n",
    "topn_recommendations_by_user_history(test_history, similarities, neighbors)"
   ]
  },
  {
   "cell_type": "markdown",
   "metadata": {
    "id": "nslAYvmaQtvW"
   },
   "source": [
    "Итак, в этом семинаре мы научились строить item-to-item рекомендации. Этот подход можно улучшать и развивать. \n",
    "\n",
    "1. Например, мы можем учитывать рейтинги айтемов из истории пользователя. Определить, когда рейтинг был позитивный и учитывать кандидатов только для таких айтемов\n",
    "2. Можем поэксеприментировать над определением похожести"
   ]
  },
  {
   "cell_type": "code",
   "execution_count": null,
   "metadata": {
    "id": "e1tt1RBN8mca"
   },
   "outputs": [],
   "source": []
  }
 ],
 "metadata": {
  "colab": {
   "provenance": []
  },
  "kernelspec": {
   "display_name": "Python 3 (ipykernel)",
   "language": "python",
   "name": "python3"
  },
  "language_info": {
   "codemirror_mode": {
    "name": "ipython",
    "version": 3
   },
   "file_extension": ".py",
   "mimetype": "text/x-python",
   "name": "python",
   "nbconvert_exporter": "python",
   "pygments_lexer": "ipython3",
   "version": "3.7.12"
  },
  "notebookId": "fb2355fb-9f81-4225-8cbd-6f57bd3092a1",
  "notebookPath": "recsys/1/seminar.ipynb"
 },
 "nbformat": 4,
 "nbformat_minor": 0
}
